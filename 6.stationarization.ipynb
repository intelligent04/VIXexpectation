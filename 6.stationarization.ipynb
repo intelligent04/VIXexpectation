{
 "cells": [
  {
   "cell_type": "code",
   "execution_count": null,
   "metadata": {},
   "outputs": [
    {
     "name": "stderr",
     "output_type": "stream",
     "text": [
      "c:\\ProgramData\\anaconda3\\envs\\nuclear_bootcamp\\Lib\\site-packages\\pandas\\core\\arraylike.py:399: RuntimeWarning: invalid value encountered in log\n",
      "  result = getattr(ufunc, method)(*inputs, **kwargs)\n",
      "c:\\ProgramData\\anaconda3\\envs\\nuclear_bootcamp\\Lib\\site-packages\\pandas\\core\\arraylike.py:399: RuntimeWarning: invalid value encountered in log\n",
      "  result = getattr(ufunc, method)(*inputs, **kwargs)\n",
      "c:\\ProgramData\\anaconda3\\envs\\nuclear_bootcamp\\Lib\\site-packages\\pandas\\core\\arraylike.py:399: RuntimeWarning: invalid value encountered in log\n",
      "  result = getattr(ufunc, method)(*inputs, **kwargs)\n",
      "c:\\ProgramData\\anaconda3\\envs\\nuclear_bootcamp\\Lib\\site-packages\\pandas\\core\\arraylike.py:399: RuntimeWarning: invalid value encountered in log\n",
      "  result = getattr(ufunc, method)(*inputs, **kwargs)\n",
      "c:\\ProgramData\\anaconda3\\envs\\nuclear_bootcamp\\Lib\\site-packages\\pandas\\core\\arraylike.py:399: RuntimeWarning: invalid value encountered in log\n",
      "  result = getattr(ufunc, method)(*inputs, **kwargs)\n",
      "c:\\ProgramData\\anaconda3\\envs\\nuclear_bootcamp\\Lib\\site-packages\\pandas\\core\\arraylike.py:399: RuntimeWarning: invalid value encountered in log\n",
      "  result = getattr(ufunc, method)(*inputs, **kwargs)\n",
      "c:\\ProgramData\\anaconda3\\envs\\nuclear_bootcamp\\Lib\\site-packages\\pandas\\core\\arraylike.py:399: RuntimeWarning: invalid value encountered in log\n",
      "  result = getattr(ufunc, method)(*inputs, **kwargs)\n",
      "c:\\ProgramData\\anaconda3\\envs\\nuclear_bootcamp\\Lib\\site-packages\\pandas\\core\\arraylike.py:399: RuntimeWarning: invalid value encountered in log\n",
      "  result = getattr(ufunc, method)(*inputs, **kwargs)\n"
     ]
    },
    {
     "ename": "",
     "evalue": "",
     "output_type": "error",
     "traceback": [
      "\u001b[1;31m현재 셀 또는 이전 셀에서 코드를 실행하는 동안 Kernel이 충돌했습니다. \n",
      "\u001b[1;31m셀의 코드를 검토하여 가능한 오류 원인을 식별하세요. \n",
      "\u001b[1;31m자세한 내용을 보려면 <a href='https://aka.ms/vscodeJupyterKernelCrash'>여기</a>를 클릭하세요. \n",
      "\u001b[1;31m자세한 내용은 Jupyter <a href='command:jupyter.viewOutput'>로그</a>를 참조하세요."
     ]
    }
   ],
   "source": [
    "import pandas as pd\n",
    "import numpy as np\n",
    "from sklearn.preprocessing import MinMaxScaler\n",
    "\n",
    "# 파일 불러오기\n",
    "file_paths = [\"./residual_data/DIA_residual.csv\",\"./residual_data/GOLD_residual.csv\",\"./residual_data/Oil_residual.csv\",\"./residual_data/QQQ_residual.csv\",\"./residual_data/SPY_residual.csv\",\"./residual_data/US10-Year_Bond_residual.csv\",\"./residual_data/USD_KRW_residual.csv\",\"./residual_data/VIX_residual.csv\"]\n",
    "indices=['DIA','Gold','Oil','QQQ','SPY','US10-Year_Bond','USD_KRW','VIX']\n",
    "for i in range(8):\n",
    "    df = pd.read_csv(file_paths[i])\n",
    "\n",
    "    # 로그 변환 (음수 값 방지)\n",
    "    df[\"log_resid\"] = np.log(df[\"resid\"].replace(0, np.nan))\n",
    "\n",
    "    # 차분 변환\n",
    "    df[\"diff_log_resid\"] = df[\"log_resid\"].diff()\n",
    "\n",
    "    # 결측치 제거 (첫 번째 차분값 NaN 발생)\n",
    "    df.dropna(inplace=True)\n",
    "\n",
    "    # 결과 저장\n",
    "    df.to_csv(\"./normalized_data/\"+indices[i]+\"_residual_normalized.csv\", index=False)\n",
    "\n",
    "    # 확인\n",
    "    df.head()\n"
   ]
  }
 ],
 "metadata": {
  "kernelspec": {
   "display_name": "nuclear_bootcamp",
   "language": "python",
   "name": "python3"
  },
  "language_info": {
   "codemirror_mode": {
    "name": "ipython",
    "version": 3
   },
   "file_extension": ".py",
   "mimetype": "text/x-python",
   "name": "python",
   "nbconvert_exporter": "python",
   "pygments_lexer": "ipython3",
   "version": "3.12.8"
  }
 },
 "nbformat": 4,
 "nbformat_minor": 2
}
